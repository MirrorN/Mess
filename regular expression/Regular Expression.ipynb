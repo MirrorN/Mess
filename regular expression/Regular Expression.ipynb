{
 "cells": [
  {
   "cell_type": "code",
   "execution_count": 1,
   "metadata": {},
   "outputs": [],
   "source": [
    "import numpy as np\n",
    "import re"
   ]
  },
  {
   "cell_type": "code",
   "execution_count": 20,
   "metadata": {},
   "outputs": [
    {
     "name": "stdout",
     "output_type": "stream",
     "text": [
      "<re.Match object; span=(0, 3), match='abc'>\n",
      "None\n",
      "<re.Match object; span=(0, 3), match='Abc'>\n"
     ]
    }
   ],
   "source": [
    "# match 方法从字符串的第一个位置开始尝试匹配\n",
    "# 符合则返回匹配的范围， 否则返回None\n",
    "pattern = re.compile(r'abc',  re.I)    # 注意！ re.I 等修饰符号要写在 compile 中\n",
    "strings = ['abcd', 'dabcbd', 'Abcd']\n",
    "\n",
    "for item in strings:\n",
    "    print(pattern.match(item))"
   ]
  },
  {
   "cell_type": "code",
   "execution_count": 22,
   "metadata": {},
   "outputs": [
    {
     "name": "stdout",
     "output_type": "stream",
     "text": [
      "<re.Match object; span=(0, 3), match='abc'>\n",
      "<re.Match object; span=(1, 4), match='abc'>\n",
      "<re.Match object; span=(2, 5), match='abc'>\n"
     ]
    }
   ],
   "source": [
    "# search 在 string 中搜寻指定的 reg ，返回位置信息\n",
    "pattern = re.compile(r'abc')\n",
    "strings = ['abcd', 'babc', 'ddabc']\n",
    "\n",
    "for item in strings:\n",
    "    print(pattern.search(item))"
   ]
  },
  {
   "cell_type": "code",
   "execution_count": 27,
   "metadata": {},
   "outputs": [
    {
     "name": "stdout",
     "output_type": "stream",
     "text": [
      "<class 'list'>\n",
      "['hello', 'world', '!']\n"
     ]
    }
   ],
   "source": [
    "# split方法 按照指定pattern 对字符串进行分割\n",
    "pattern = re.compile(r'\\d+')\n",
    "\n",
    "string = 'hello23world3423!'\n",
    "res = pattern.split(string)\n",
    "\n",
    "print(type(res))\n",
    "print(res)"
   ]
  },
  {
   "cell_type": "markdown",
   "metadata": {},
   "source": [
    "#### findall(): 在字符串中查找所有符合要求的字符串 查找所有的匹配"
   ]
  },
  {
   "cell_type": "code",
   "execution_count": 35,
   "metadata": {},
   "outputs": [
    {
     "name": "stdout",
     "output_type": "stream",
     "text": [
      "['3']\n",
      "['23']\n",
      "['4', '34', '32']\n"
     ]
    }
   ],
   "source": [
    "pattern = re.compile(r'\\d+')\n",
    "strings = ['3sd', 'sdf23', '4sdf34m32']\n",
    "\n",
    "for item in strings:\n",
    "    print(pattern.findall(item))"
   ]
  },
  {
   "cell_type": "markdown",
   "metadata": {},
   "source": [
    "#### finditer()：在字符串中查找所有符合字串 并生成一个迭代器返回"
   ]
  },
  {
   "cell_type": "code",
   "execution_count": 50,
   "metadata": {},
   "outputs": [
    {
     "name": "stdout",
     "output_type": "stream",
     "text": [
      "<class 'callable_iterator'>\n",
      "<re.Match object; span=(1, 3), match='23'>\n",
      "<re.Match object; span=(4, 8), match='3434'>\n",
      "<re.Match object; span=(11, 14), match='445'>\n"
     ]
    }
   ],
   "source": [
    "pattern = re.compile(r'\\d+')\n",
    "string = 'a23b3434fgg445'\n",
    "res = pattern.finditer(string)\n",
    "print(type(res))\n",
    "for item in res:\n",
    "    print(item)"
   ]
  },
  {
   "cell_type": "markdown",
   "metadata": {},
   "source": [
    "#### sub()：替换字符串中匹配串"
   ]
  },
  {
   "cell_type": "code",
   "execution_count": 43,
   "metadata": {},
   "outputs": [
    {
     "name": "stdout",
     "output_type": "stream",
     "text": [
      "3sd\n",
      "|sd\n",
      "sdf23\n",
      "sdf|\n",
      "4sdf34m32\n",
      "|sdf|m|\n"
     ]
    }
   ],
   "source": [
    "pattern = re.compile(r'\\d+')\n",
    "stirngs = ['a2b43c23d', 'ab3n']\n",
    "\n",
    "for item in strings:\n",
    "    print(item)\n",
    "    res = pattern.sub(r'|', item)\n",
    "    print(res)"
   ]
  },
  {
   "cell_type": "markdown",
   "metadata": {},
   "source": [
    "#### ? 可以匹配之前字符 0， 1 次"
   ]
  },
  {
   "cell_type": "code",
   "execution_count": 23,
   "metadata": {},
   "outputs": [
    {
     "name": "stdout",
     "output_type": "stream",
     "text": [
      "<re.Match object; span=(0, 3), match='abc'>\n",
      "<re.Match object; span=(0, 2), match='ab'>\n",
      "<re.Match object; span=(0, 3), match='abc'>\n",
      "<re.Match object; span=(0, 3), match='abc'>\n"
     ]
    }
   ],
   "source": [
    "pattern = re.compile(r'abc?', re.I)\n",
    "strings = ['abc', 'ab', 'abcc', 'abcd']  \n",
    "\n",
    "for item in strings:\n",
    "    print(pattern.search(item))"
   ]
  },
  {
   "cell_type": "markdown",
   "metadata": {},
   "source": [
    "#### * 表示匹配之前的字符 0，1，n次"
   ]
  },
  {
   "cell_type": "code",
   "execution_count": 24,
   "metadata": {},
   "outputs": [
    {
     "name": "stdout",
     "output_type": "stream",
     "text": [
      "<re.Match object; span=(0, 3), match='abc'>\n",
      "<re.Match object; span=(0, 4), match='abcc'>\n",
      "<re.Match object; span=(0, 2), match='ab'>\n",
      "<re.Match object; span=(0, 6), match='abcccc'>\n"
     ]
    }
   ],
   "source": [
    "pattern = re.compile(r'abc*')\n",
    "strings = ['abc', 'abcc', 'ab', 'abcccc']\n",
    "\n",
    "for item in strings:\n",
    "    print(pattern.search(item))"
   ]
  },
  {
   "cell_type": "markdown",
   "metadata": {},
   "source": [
    "#### + 表示匹配之前字符 1，n次"
   ]
  },
  {
   "cell_type": "code",
   "execution_count": 33,
   "metadata": {},
   "outputs": [
    {
     "name": "stdout",
     "output_type": "stream",
     "text": [
      "a23d\n",
      "<re.Match object; span=(1, 3), match='23'>\n",
      "23\n",
      "<re.Match object; span=(0, 2), match='23'>\n",
      "b2b\n",
      "<re.Match object; span=(1, 2), match='2'>\n",
      "dd33\n",
      "<re.Match object; span=(2, 4), match='33'>\n"
     ]
    }
   ],
   "source": [
    "pattern = re.compile(r'\\d+')\n",
    "strings = ['a23d', '23', 'b2b', 'dd33']\n",
    "\n",
    "for item in strings:\n",
    "    print(item)\n",
    "    print(pattern.search(item))"
   ]
  },
  {
   "cell_type": "markdown",
   "metadata": {},
   "source": [
    "#### .匹配任意字符"
   ]
  },
  {
   "cell_type": "code",
   "execution_count": 54,
   "metadata": {},
   "outputs": [
    {
     "name": "stdout",
     "output_type": "stream",
     "text": [
      "<re.Match object; span=(0, 3), match='adb'>\n",
      "<re.Match object; span=(0, 3), match='a8b'>\n",
      "<re.Match object; span=(0, 3), match='a_b'>\n"
     ]
    }
   ],
   "source": [
    "pattern = re.compile(r'a.b')\n",
    "strings = ['adb', 'a8b', 'a_b']\n",
    "\n",
    "for item in strings:\n",
    "    print(pattern.search(item))"
   ]
  },
  {
   "cell_type": "markdown",
   "metadata": {},
   "source": [
    "#### 匹配字符串开头、结尾字串"
   ]
  },
  {
   "cell_type": "code",
   "execution_count": 55,
   "metadata": {},
   "outputs": [
    {
     "name": "stdout",
     "output_type": "stream",
     "text": [
      "<re.Match object; span=(0, 2), match='He'>\n",
      "None\n"
     ]
    }
   ],
   "source": [
    "# 只匹配从字符串开头部分符合规则的字串\n",
    "pattern = re.compile(r'^He')    \n",
    "strings = ['He is reading', 'talk to He']\n",
    "\n",
    "for item in strings:\n",
    "    print(pattern.search(item))"
   ]
  },
  {
   "cell_type": "code",
   "execution_count": 57,
   "metadata": {},
   "outputs": [
    {
     "name": "stdout",
     "output_type": "stream",
     "text": [
      "None\n",
      "<re.Match object; span=(2, 6), match='dog.'>\n"
     ]
    }
   ],
   "source": [
    "# 只匹配字符串结尾部分符合规则的字串\n",
    "pattern = re.compile(r'dog.$')\n",
    "strings = ['a dog b', 'a dog.']\n",
    "\n",
    "for item in strings:\n",
    "    print(pattern.search(item))"
   ]
  },
  {
   "cell_type": "markdown",
   "metadata": {},
   "source": [
    "#### 匹配单词边界处的字串\n",
    "这里注意 `\\b`表示匹配word边界，  `\\B`表示不匹配word边界"
   ]
  },
  {
   "cell_type": "code",
   "execution_count": 63,
   "metadata": {},
   "outputs": [
    {
     "name": "stdout",
     "output_type": "stream",
     "text": [
      "<re.Match object; span=(0, 3), match='dog'>\n",
      "<re.Match object; span=(2, 5), match='dog'>\n",
      "None\n",
      "<re.Match object; span=(2, 5), match='dog'>\n",
      "----------------------------------------\n",
      "None\n",
      "None\n",
      "<re.Match object; span=(1, 4), match='dog'>\n",
      "None\n"
     ]
    }
   ],
   "source": [
    "pattern = re.compile(r'\\bdog\\b')\n",
    "pattern2 = re.compile(r'\\Bdog\\B')\n",
    "strings = ['dog a', 'a dog', 'adoge', 'a dog d']\n",
    "\n",
    "for item in strings:\n",
    "    print(pattern.search(item))\n",
    "print('-'*40)\n",
    "for item in strings:\n",
    "    print(pattern2.search(item))"
   ]
  },
  {
   "cell_type": "markdown",
   "metadata": {},
   "source": [
    "#### `|` Disjunction （or）\n",
    "注意对于 `|`， 它会将之前与之后的整体作为匹配的子串 \n",
    "如果只匹配一部分 要使用 `()`进行划分"
   ]
  },
  {
   "cell_type": "code",
   "execution_count": 64,
   "metadata": {},
   "outputs": [
    {
     "name": "stdout",
     "output_type": "stream",
     "text": [
      "<re.Match object; span=(0, 3), match='abc'>\n",
      "<re.Match object; span=(2, 3), match='e'>\n",
      "<re.Match object; span=(0, 1), match='e'>\n"
     ]
    }
   ],
   "source": [
    "pattern = re.compile(r'abc|e')\n",
    "strings = ['abc', 'abe', 'e']\n",
    "\n",
    "for item in strings:\n",
    "    print(pattern.search(item))"
   ]
  },
  {
   "cell_type": "markdown",
   "metadata": {},
   "source": [
    "#### 关于 Regular Expression 的匹配方式\n",
    "Regular Expression的匹配是 greedy的， 总是尽可能地匹配最多字符"
   ]
  },
  {
   "cell_type": "code",
   "execution_count": null,
   "metadata": {},
   "outputs": [],
   "source": []
  },
  {
   "cell_type": "code",
   "execution_count": null,
   "metadata": {},
   "outputs": [],
   "source": []
  },
  {
   "cell_type": "code",
   "execution_count": null,
   "metadata": {},
   "outputs": [],
   "source": []
  }
 ],
 "metadata": {
  "kernelspec": {
   "display_name": "Python 3",
   "language": "python",
   "name": "python3"
  },
  "language_info": {
   "codemirror_mode": {
    "name": "ipython",
    "version": 3
   },
   "file_extension": ".py",
   "mimetype": "text/x-python",
   "name": "python",
   "nbconvert_exporter": "python",
   "pygments_lexer": "ipython3",
   "version": "3.7.0"
  }
 },
 "nbformat": 4,
 "nbformat_minor": 2
}
