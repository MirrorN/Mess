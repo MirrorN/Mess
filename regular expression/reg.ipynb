{
 "cells": [
  {
   "cell_type": "markdown",
   "metadata": {},
   "source": [
    "正则表达式\n",
    "1.十种基本元字符"
   ]
  },
  {
   "cell_type": "code",
   "execution_count": 1,
   "metadata": {},
   "outputs": [],
   "source": [
    "import re"
   ]
  },
  {
   "cell_type": "code",
   "execution_count": 3,
   "metadata": {},
   "outputs": [
    {
     "data": {
      "text/plain": [
       "['a', 'b', 'c']"
      ]
     },
     "execution_count": 3,
     "metadata": {},
     "output_type": "execute_result"
    }
   ],
   "source": [
    "\"\"\"\n",
    "指定一组匹配的字符 整个 [] 内代表一个字符 因此返回的结果也只有一个字符\n",
    "其中一些简写 [a-e] = [abcde]\n",
    "            [1-4] = [1234]\n",
    "            [0-39] = [01239]\n",
    "如果在前面加入 ^ 符号 则表示补集：\n",
    "            [^abc] 表示除了abc之外的所有字符\n",
    "\"\"\"\n",
    "pattern = re.compile('[abc]')\n",
    "\n",
    "string = 'a'\n",
    "pattern.findall(string)\n",
    "pattern.findall('ac')\n",
    "pattern.findall('hello')\n",
    "pattern.findall('abcdef')"
   ]
  },
  {
   "cell_type": "code",
   "execution_count": 4,
   "metadata": {},
   "outputs": [
    {
     "name": "stdout",
     "output_type": "stream",
     "text": [
      "[]\n",
      "['ab']\n",
      "['ab', 'cd']\n"
     ]
    }
   ],
   "source": [
    "\"\"\"\n",
    ". 点号匹配所有的字符（除换行符）\n",
    "\"\"\"\n",
    "pattern = re.compile('..')\n",
    "print(pattern.findall('a'))\n",
    "print(pattern.findall('ab'))\n",
    "print(pattern.findall('abcd'))"
   ]
  },
  {
   "cell_type": "code",
   "execution_count": 6,
   "metadata": {},
   "outputs": [
    {
     "name": "stdout",
     "output_type": "stream",
     "text": [
      "['a']\n",
      "['ab']\n",
      "[]\n"
     ]
    }
   ],
   "source": [
    "\"\"\"\n",
    "^ 符号有两种\n",
    "1. 如果在 [] 里面 表示除了内部字符以外的字符\n",
    "2. 如果在 [] 外面 表示以指定字符开头的字符串\n",
    "\"\"\"\n",
    "pattern = re.compile('^a')\n",
    "print(pattern.findall(\"abcd\"))\n",
    "pattern1 = re.compile('^ab')   # ^ab 表示以a开头 并且第二个字符是b的字符串\n",
    "print(pattern1.findall(\"abd\"))\n",
    "print(pattern1.findall('acd'))"
   ]
  },
  {
   "cell_type": "code",
   "execution_count": 7,
   "metadata": {},
   "outputs": [
    {
     "name": "stdout",
     "output_type": "stream",
     "text": [
      "['man']\n",
      "['mn']\n",
      "['maan']\n"
     ]
    }
   ],
   "source": [
    "\"\"\"\n",
    "* 表示匹配0次以上的字符\n",
    "\"\"\"\n",
    "pattern = re.compile(\"ma*n\")\n",
    "\n",
    "print(pattern.findall(\"man\"))\n",
    "print(pattern.findall('mn'))\n",
    "print(pattern.findall(\"maan\"))"
   ]
  },
  {
   "cell_type": "code",
   "execution_count": 8,
   "metadata": {},
   "outputs": [
    {
     "name": "stdout",
     "output_type": "stream",
     "text": [
      "['man']\n",
      "[]\n",
      "['maan']\n"
     ]
    }
   ],
   "source": [
    "\"\"\"\n",
    "+ 匹配1次以上\n",
    "\"\"\"\n",
    "pattern = re.compile(\"ma+n\")\n",
    "\n",
    "print(pattern.findall(\"man\"))\n",
    "print(pattern.findall(\"mn\"))\n",
    "print(pattern.findall(\"maan\"))"
   ]
  },
  {
   "cell_type": "code",
   "execution_count": 9,
   "metadata": {},
   "outputs": [
    {
     "name": "stdout",
     "output_type": "stream",
     "text": [
      "['mn']\n",
      "['man']\n",
      "[]\n"
     ]
    }
   ],
   "source": [
    "\"\"\"\n",
    "? 表示匹配0，1次字符\n",
    "\"\"\"\n",
    "pattern = re.compile('ma?n')\n",
    "\n",
    "print(pattern.findall('mn'))\n",
    "print(pattern.findall('man'))\n",
    "print(pattern.findall('maan'))"
   ]
  },
  {
   "cell_type": "code",
   "execution_count": 11,
   "metadata": {},
   "outputs": [
    {
     "name": "stdout",
     "output_type": "stream",
     "text": [
      "['aa']\n",
      "['a']\n",
      "['aa', 'aa']\n"
     ]
    }
   ],
   "source": [
    "\"\"\"\n",
    "{} 表示匹配左侧表达式指定数量的字符串\n",
    "注意 {a,b} a b 之间不要有空格\n",
    "\"\"\"\n",
    "pattern = re.compile(\"a{1,2}\")\n",
    "\n",
    "print(pattern.findall(\"aa\"))\n",
    "print(pattern.findall(\"a\"))\n",
    "print(pattern.findall(\"aaaa\"))"
   ]
  },
  {
   "cell_type": "code",
   "execution_count": 12,
   "metadata": {},
   "outputs": [
    {
     "name": "stdout",
     "output_type": "stream",
     "text": [
      "['a', 'b']\n",
      "[]\n"
     ]
    }
   ],
   "source": [
    "\"\"\"\n",
    "| 表示 或 的意思\n",
    "\"\"\"\n",
    "\n",
    "pattern = re.compile(\"a|b\")\n",
    "\n",
    "print(pattern.findall(\"abcd\"))\n",
    "print(pattern.findall(\"df\"))"
   ]
  },
  {
   "cell_type": "code",
   "execution_count": 13,
   "metadata": {},
   "outputs": [
    {
     "name": "stdout",
     "output_type": "stream",
     "text": [
      "['a']\n",
      "['b']\n"
     ]
    }
   ],
   "source": [
    "\"\"\"\n",
    "() 小括号用于将表达式进行分组\n",
    "\"\"\"\n",
    "\n",
    "pattern = re.compile('(a|b|c)re')\n",
    "\n",
    "print(pattern.findall(\"are\"))   # 只返回符合（）内部符合的字符\n",
    "print(pattern.findall(\"bre\"))"
   ]
  },
  {
   "cell_type": "code",
   "execution_count": 14,
   "metadata": {},
   "outputs": [
    {
     "data": {
      "text/plain": [
       "'\\n\\\\ 表示取消符号特殊含义  \\\\$ 表示匹配 $ \\n'"
      ]
     },
     "execution_count": 14,
     "metadata": {},
     "output_type": "execute_result"
    }
   ],
   "source": [
    "\"\"\"\n",
    "\\ 表示取消符号特殊含义  \\$ 表示匹配 $ \n",
    "\"\"\""
   ]
  },
  {
   "cell_type": "markdown",
   "metadata": {},
   "source": [
    "几种特殊的序列"
   ]
  },
  {
   "cell_type": "code",
   "execution_count": 15,
   "metadata": {},
   "outputs": [
    {
     "name": "stdout",
     "output_type": "stream",
     "text": [
      "['the']\n",
      "[]\n"
     ]
    }
   ],
   "source": [
    "\"\"\"\n",
    "\\A 表示匹配以指定的字符 开头 的字符串 （作用在字符串上）\n",
    "\"\"\"\n",
    "pattern = re.compile(\"\\Athe\")\n",
    "print(pattern.findall(\"the aaa\"))\n",
    "print(pattern.findall(\"hello the aaa\"))  # 字符串不以 the 开头"
   ]
  },
  {
   "cell_type": "code",
   "execution_count": 19,
   "metadata": {},
   "outputs": [
    {
     "name": "stdout",
     "output_type": "stream",
     "text": [
      "['abc']\n",
      "['abc']\n"
     ]
    }
   ],
   "source": [
    "\"\"\"\n",
    "\\b 匹配单词边界 边界是指单词的开头或者结尾(分别将 \\b 放在开头或者结尾)\n",
    "\\B 相反 也就是不匹配字符边界 而是匹配字符串内部\n",
    "\"\"\"\n",
    "pattern = re.compile(r'\\babc')\n",
    "pattern1 = re.compile(r'abc\\b')\n",
    "print(pattern.findall(\"abcdddd sdf\"))\n",
    "print(pattern1.findall(\"safabc asd\"))"
   ]
  },
  {
   "cell_type": "code",
   "execution_count": 20,
   "metadata": {},
   "outputs": [
    {
     "data": {
      "text/plain": [
       "'\\n另外一些特殊的:\\n\\\\d = [1-9]\\n\\\\D = [^0-9]\\n\\\\s -> 空白字符 也就是 \\n tab之类的  = [\\n\\t\\r\\x0c\\x0b]\\n\\\\S 相反\\n'"
      ]
     },
     "execution_count": 20,
     "metadata": {},
     "output_type": "execute_result"
    }
   ],
   "source": [
    "\"\"\"\n",
    "另外一些特殊的:\n",
    "\\d = [1-9]\n",
    "\\D = [^0-9]\n",
    "\\s -> 空白字符 也就是 \\n tab之类的  = [\\n\\t\\r\\f\\v]\n",
    "\\S 相反\n",
    "\"\"\""
   ]
  },
  {
   "cell_type": "markdown",
   "metadata": {},
   "source": [
    "几个重点函数"
   ]
  },
  {
   "cell_type": "markdown",
   "metadata": {},
   "source": []
  },
  {
   "cell_type": "code",
   "execution_count": 23,
   "metadata": {},
   "outputs": [
    {
     "name": "stdout",
     "output_type": "stream",
     "text": [
      "['abd', 'sdf', 'sdf']\n"
     ]
    }
   ],
   "source": [
    "# 在符合规则的地方进行分割\n",
    "# re.split()\n",
    "\n",
    "pattern = re.compile(\"\\d\")\n",
    "\n",
    "strings = \"abd2sdf4sdf\"\n",
    "\n",
    "print(pattern.split(strings))"
   ]
  },
  {
   "cell_type": "code",
   "execution_count": 26,
   "metadata": {},
   "outputs": [
    {
     "name": "stdout",
     "output_type": "stream",
     "text": [
      "asfAAsdfAAAsdf\n"
     ]
    }
   ],
   "source": [
    "# re.sub()替换\n",
    "# re.subn() 也是替换 但是不同的是 不光返回替换的结果 也会返回替换的次数\n",
    "pattern = re.compile(\"\\d\")\n",
    "\n",
    "strings = \"asf12sdf234sdf\"\n",
    "print(pattern.sub(\"A\", strings))  # 注意顺序"
   ]
  },
  {
   "cell_type": "code",
   "execution_count": null,
   "metadata": {},
   "outputs": [],
   "source": []
  }
 ],
 "metadata": {
  "kernelspec": {
   "display_name": "Python 3",
   "language": "python",
   "name": "python3"
  },
  "language_info": {
   "codemirror_mode": {
    "name": "ipython",
    "version": 3
   },
   "file_extension": ".py",
   "mimetype": "text/x-python",
   "name": "python",
   "nbconvert_exporter": "python",
   "pygments_lexer": "ipython3",
   "version": "3.7.4"
  }
 },
 "nbformat": 4,
 "nbformat_minor": 4
}
